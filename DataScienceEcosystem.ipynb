{
 "cells": [
  {
   "cell_type": "markdown",
   "id": "3fc039ec",
   "metadata": {},
   "source": [
    "# Data Science Tools and Ecosystem"
   ]
  },
  {
   "cell_type": "markdown",
   "id": "a1e5ccee",
   "metadata": {},
   "source": [
    "**In this notebook, Data Science Tools and Ecosystem are summarized.**  \n",
    "For further information about this topic you may also take the course: https://www.coursera.org/professional-certificates/ibm-data-science"
   ]
  },
  {
   "cell_type": "markdown",
   "id": "acc1ff6a",
   "metadata": {},
   "source": [
    "**Objectives:**\n",
    "- List popular languages for Data Science\n",
    "- List commonly used libraries for Data Science\n",
    "- Create a table with Data Science Tools\n",
    "- Demonstrate simple arithmetic operations in Python  \n",
    "- Convert minutes to hours using Python  "
   ]
  },
  {
   "cell_type": "markdown",
   "id": "83f7278a",
   "metadata": {},
   "source": [
    "**Some of the popular languages that Data Scientists use are:**\n",
    "1. Python\n",
    "2. SQL\n",
    "3. R"
   ]
  },
  {
   "cell_type": "markdown",
   "id": "800d3d23",
   "metadata": {},
   "source": [
    "**Some of the commonly used libraries used by Data Scientists include:**\n",
    "1. NumPy\n",
    "2. Pandas\n",
    "3. Matplotlob\n",
    "4. Plotly\n",
    "5. Scikit-learn\n"
   ]
  },
  {
   "cell_type": "markdown",
   "id": "5255f00f",
   "metadata": {},
   "source": [
    "\n",
    "\n",
    "| **Data Science Tools**|\n",
    "|-----------------|\n",
    "| Jupyter Notebook| \n",
    "| RStudio         | \n",
    "| Git / GitHub    |"
   ]
  },
  {
   "cell_type": "markdown",
   "id": "95c2fd75",
   "metadata": {},
   "source": [
    "### Below are a few examples of evaluating arithmetic expressions in Python"
   ]
  },
  {
   "cell_type": "code",
   "execution_count": 4,
   "id": "4eb71300",
   "metadata": {},
   "outputs": [
    {
     "data": {
      "text/plain": [
       "17"
      ]
     },
     "execution_count": 4,
     "metadata": {},
     "output_type": "execute_result"
    }
   ],
   "source": [
    "# This a simple arithmetic expression to mutiply then add integers\n",
    "(3*4)+5"
   ]
  },
  {
   "cell_type": "code",
   "execution_count": 5,
   "id": "69867224",
   "metadata": {},
   "outputs": [
    {
     "data": {
      "text/plain": [
       "3.3333333333333335"
      ]
     },
     "execution_count": 5,
     "metadata": {},
     "output_type": "execute_result"
    }
   ],
   "source": [
    "# This will convert 200 minutes to hours by diving by 60\n",
    "200/60"
   ]
  },
  {
   "cell_type": "markdown",
   "id": "ab2971b2",
   "metadata": {},
   "source": [
    "## Author\n",
    "Elias Bauer"
   ]
  }
 ],
 "metadata": {
  "kernelspec": {
   "display_name": ".venv",
   "language": "python",
   "name": "python3"
  },
  "language_info": {
   "codemirror_mode": {
    "name": "ipython",
    "version": 3
   },
   "file_extension": ".py",
   "mimetype": "text/x-python",
   "name": "python",
   "nbconvert_exporter": "python",
   "pygments_lexer": "ipython3",
   "version": "3.12.1"
  }
 },
 "nbformat": 4,
 "nbformat_minor": 5
}
